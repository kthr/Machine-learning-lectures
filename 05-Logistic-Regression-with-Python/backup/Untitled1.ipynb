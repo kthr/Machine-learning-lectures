{
 "cells": [
  {
   "cell_type": "markdown",
   "metadata": {},
   "source": [
    "Linear regression yields a (continuus) numeric value. We can transform the numerical estimate from linear regression into a probability that the observation belongs to class by using the *logistic* function $\\sigma$ on top of the linear regression predictor:\n",
    "\n",
    "$$P(C_1|\\phi)=y(\\phi)=\\sigma(\\mathbf{w}^\\top \\mathbf{\\phi})$$, with \n",
    "$$\\sigma(\\mathbf(w)^\\top \\mathbf{\\phi}) = \\frac{\\exp{(\\mathbf{w}^\\top \\mathbf{\\phi})}}{1+\\exp{(\\mathbf{w}^\\top \\mathbf{\\phi})}} $$.\n",
    "\n",
    "The Probability for the other class $C_2$ is just: $P(C_2|\\phi)=1-P(C_1|\\phi)$.\n",
    "\n",
    "\n",
    "![](https://upload.wikimedia.org/wikipedia/commons/8/88/Logistic-curve.svg)\n",
    "\n",
    "The sigmoid is the link function to transform regression into probabilities,\n",
    "So why would that work? Let's assume we have a simple linear model of two explanatory variables $t=\\beta_0+\\beta_1 x$. We compute the sigmoid of this result: $\\sigma(t)=\\frac{1}{1+\\exp{-(\\beta_0+\\beta_1 x)}}$. The inverse of this relation is $\\log (\\frac{\\sigma(x)}{1-\\sigma(x)})=\\beta_0+\\beta_1 x$, and (given that $\\sigma(x)$ encodes the probability of x being a case (belonging to class 1), this means that the log of the odds ratio is a linear model of the explanatory variables.\n",
    "\n",
    "What is needed is a way to convert a binary variable into a continuous one that can take on any real value (negative or positive). To do that, binomial logistic regression first takes the odds of the event happening for different levels of each independent variable, then takes the ratio of those odds (which is continuous but cannot be negative) and then takes the logarithm of that ratio (this is referred to as logit or log-odds) to create a continuous criterion as a transformed version of the dependent variable.  The odds are defined as the probability that a particular outcome is a case divided by the probability that it is a noncase. (see https://en.wikipedia.org/wiki/Logistic_regression for more details)."
   ]
  },
  {
   "cell_type": "code",
   "execution_count": null,
   "metadata": {},
   "outputs": [],
   "source": []
  }
 ],
 "metadata": {
  "kernelspec": {
   "display_name": "Python 3",
   "language": "python",
   "name": "python3"
  },
  "language_info": {
   "codemirror_mode": {
    "name": "ipython",
    "version": 3
   },
   "file_extension": ".py",
   "mimetype": "text/x-python",
   "name": "python",
   "nbconvert_exporter": "python",
   "pygments_lexer": "ipython3",
   "version": "3.6.2"
  }
 },
 "nbformat": 4,
 "nbformat_minor": 2
}
